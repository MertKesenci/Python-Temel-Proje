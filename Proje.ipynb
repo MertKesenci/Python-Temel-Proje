{
 "cells": [
  {
   "cell_type": "code",
   "execution_count": null,
   "id": "18881e25",
   "metadata": {},
   "outputs": [],
   "source": [
    "# QUESTION 1"
   ]
  },
  {
   "cell_type": "code",
   "execution_count": 106,
   "id": "4d341aaf",
   "metadata": {
    "scrolled": true
   },
   "outputs": [
    {
     "data": {
      "text/plain": [
       "[[1, 'a', ['cat'], 2], [[[3]], 'dog'], 4, 5]"
      ]
     },
     "execution_count": 106,
     "metadata": {},
     "output_type": "execute_result"
    }
   ],
   "source": [
    "l = [[1,\"a\",[\"cat\"],2],[[[3]],\"dog\"],4,5]"
   ]
  },
  {
   "cell_type": "code",
   "execution_count": 107,
   "id": "6a5b01b1",
   "metadata": {},
   "outputs": [
    {
     "data": {
      "text/plain": [
       "[1, 'a', 'cat', 2, 3, 'dog', 4, 5]"
      ]
     },
     "execution_count": 107,
     "metadata": {},
     "output_type": "execute_result"
    }
   ],
   "source": [
    "new_l = []\n",
    "def flatten(l):\n",
    "    for i in l:\n",
    "        if type(i) == list:\n",
    "             flatten(i)\n",
    "        else:\n",
    "             new_l.append(i)\n",
    "flatten(l)\n",
    "print(new_l)\n",
    "    "
   ]
  },
  {
   "cell_type": "code",
   "execution_count": null,
   "id": "daaaf084",
   "metadata": {},
   "outputs": [],
   "source": [
    "# QUESTION 2"
   ]
  },
  {
   "cell_type": "code",
   "execution_count": 108,
   "id": "c51c58a0",
   "metadata": {
    "scrolled": true
   },
   "outputs": [
    {
     "data": {
      "text/plain": [
       "[[1, 2], [3, 4], [5, 6, 7]]"
      ]
     },
     "execution_count": 108,
     "metadata": {},
     "output_type": "execute_result"
    }
   ],
   "source": [
    "a = [[1, 2], [3, 4], [5, 6, 7]]"
   ]
  },
  {
   "cell_type": "code",
   "execution_count": 109,
   "id": "504534db",
   "metadata": {},
   "outputs": [
    {
     "data": {
      "text/plain": [
       "[[5, 6, 7], [3, 4], [1, 2]]"
      ]
     },
     "execution_count": 109,
     "metadata": {},
     "output_type": "execute_result"
    }
   ],
   "source": [
    "a.reverse()"
   ]
  },
  {
   "cell_type": "code",
   "execution_count": 110,
   "id": "c79dd4f3",
   "metadata": {},
   "outputs": [
    {
     "name": "stdout",
     "output_type": "stream",
     "text": [
      "[[7, 6, 5], [4, 3], [2, 1]]\n"
     ]
    }
   ],
   "source": [
    "for i in a:\n",
    "    if type(i) == list:\n",
    "        i.reverse()\n",
    "print(a)"
   ]
  }
 ],
 "metadata": {
  "kernelspec": {
   "display_name": "Python 3",
   "language": "python",
   "name": "python3"
  },
  "language_info": {
   "codemirror_mode": {
    "name": "ipython",
    "version": 3
   },
   "file_extension": ".py",
   "mimetype": "text/x-python",
   "name": "python",
   "nbconvert_exporter": "python",
   "pygments_lexer": "ipython3",
   "version": "3.8.8"
  }
 },
 "nbformat": 4,
 "nbformat_minor": 5
}
